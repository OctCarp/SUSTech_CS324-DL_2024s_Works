{
 "cells": [
  {
   "metadata": {},
   "cell_type": "markdown",
   "source": "## Global Setting",
   "id": "abac0033df09f930"
  },
  {
   "metadata": {
    "ExecuteTime": {
     "end_time": "2024-05-23T15:22:20.007760Z",
     "start_time": "2024-05-23T15:22:19.994766Z"
    }
   },
   "cell_type": "code",
   "source": [
    "import torch\n",
    "import numpy as np\n",
    "\n",
    "# True if you want to get dynamic output in notebook block, else False\n",
    "SHOW_PLOT_IN_BLOCK = True\n",
    "GLOBAL_SEED = 42\n",
    "\n",
    "CONFIG = {\n",
    "    'input_length': 4,\n",
    "    'input_dim': 1,\n",
    "    'num_classes': 10,\n",
    "    'num_hidden': 128,\n",
    "    'batch_size': 128,\n",
    "    'learning_rate': 0.001,\n",
    "    'max_epoch': 100,\n",
    "    'max_norm': 10,\n",
    "    'data_size': 100000,\n",
    "    'portion_train': 0.8,\n",
    "    'use_scheduler': False,\n",
    "}\n",
    "\n",
    "seq_length = CONFIG['input_length'] + 1\n",
    "FILE_NAME = f'LSTM_train_t{seq_length}_latest'\n",
    "\n",
    "torch.manual_seed(GLOBAL_SEED)\n",
    "torch.cuda.manual_seed_all(GLOBAL_SEED)\n",
    "np.random.seed(GLOBAL_SEED)\n"
   ],
   "id": "770cb91e890edd64",
   "outputs": [],
   "execution_count": 40
  },
  {
   "metadata": {},
   "cell_type": "markdown",
   "source": [
    "## Task 3\n",
    "\n",
    "### Define Util Functions\n"
   ],
   "id": "58f1c4dda7ea0b54"
  },
  {
   "metadata": {
    "ExecuteTime": {
     "end_time": "2024-05-23T15:22:20.038780Z",
     "start_time": "2024-05-23T15:22:20.024781Z"
    }
   },
   "cell_type": "code",
   "source": [
    "import matplotlib.pyplot as plt\n",
    "\n",
    "\n",
    "def save_fig_curve(eval_epochs, train_acc, val_acc, train_loss, val_loss, file_name, need_show):\n",
    "    plt.figure(figsize=(12, 6))\n",
    "\n",
    "    plt.subplot(1, 2, 1)\n",
    "    plt.plot(eval_epochs, train_acc, label='Train Acc')\n",
    "    plt.plot(eval_epochs, val_acc, label='Val Acc')\n",
    "    plt.title(f'{file_name} Accuracy')\n",
    "    plt.xlabel('Epoch')\n",
    "    plt.ylabel('Accuracy')\n",
    "    plt.legend()\n",
    "    plt.grid(True)\n",
    "\n",
    "    plt.subplot(1, 2, 2)\n",
    "    plt.plot(eval_epochs, train_loss, label='Train Loss')\n",
    "    plt.plot(eval_epochs, val_loss, label='Val Loss')\n",
    "    plt.title(f'{file_name} Loss')\n",
    "    plt.xlabel('Epoch')\n",
    "    plt.ylabel('Accuracy')\n",
    "    plt.legend()\n",
    "    plt.grid(True)\n",
    "\n",
    "    plt.tight_layout()\n",
    "\n",
    "    path = '../Report/img/Part1/' + file_name + '.png'\n",
    "    plt.savefig(path)\n",
    "\n",
    "    if need_show:\n",
    "        plt.show()\n",
    "    plt.close()\n",
    "\n"
   ],
   "id": "7237c6b5e4384094",
   "outputs": [],
   "execution_count": 41
  },
  {
   "metadata": {},
   "cell_type": "markdown",
   "source": "### Start Train\n",
   "id": "ee81b80697ab4df1"
  },
  {
   "metadata": {
    "ExecuteTime": {
     "end_time": "2024-05-23T15:22:27.910743Z",
     "start_time": "2024-05-23T15:22:20.040780Z"
    }
   },
   "cell_type": "code",
   "source": [
    "import train\n",
    "\n",
    "train_acc_l, val_acc_l, train_loss_l, val_loss_l = train.main(config=CONFIG)\n",
    "eval_epochs_l = range(CONFIG['max_epoch'])\n",
    "\n",
    "seq_length = CONFIG['input_length'] + 1\n",
    "save_fig_curve(eval_epochs_l, train_acc_l, val_acc_l, train_loss_l, val_loss_l,\n",
    "               file_name=FILE_NAME,\n",
    "               need_show=SHOW_PLOT_IN_BLOCK)"
   ],
   "id": "abd57733f30348b8",
   "outputs": [
    {
     "name": "stdout",
     "output_type": "stream",
     "text": [
      "Device: NVIDIA GeForce RTX 3070 Laptop GPU\n",
      "Warning: total_len is larger than the maximum possible length. \n",
      "Setting total_len to the maximum possible length. \n",
      "Warning: access length of dataset by len(dataset) to get the actual length. \n"
     ]
    },
    {
     "name": "stderr",
     "output_type": "stream",
     "text": [
      "100%|██████████| 100/100 [00:07<00:00, 13.29it/s]\n"
     ]
    },
    {
     "name": "stdout",
     "output_type": "stream",
     "text": [
      "Done training.\n",
      "Save data to results/t5_latest.csv\n",
      "After 100 Epochs:\n",
      "Train Acc: 90.9869%, Validate Acc: 87.4120%\n",
      "Train Loss: 1.600423, Validate Loss: 1.629048\n"
     ]
    }
   ],
   "execution_count": 42
  },
  {
   "metadata": {},
   "cell_type": "markdown",
   "source": "\n",
   "id": "79fb9547bed594bb"
  },
  {
   "metadata": {},
   "cell_type": "markdown",
   "source": [
    "### Static Show Images\n",
    "\n",
    "$T = 5$ Default\n",
    "\n",
    "![t5_default](../Report/img/part1/LSTM_train_t5_default.png)\n",
    "\n",
    "$T = 5$ Best\n",
    "\n",
    "![t5_lr_1e-2](../Report/img/part1/LSTM_train_t5_lr_1e-2.png)\n",
    "\n",
    "$T = 20$ Default\n",
    "\n",
    "![t20_default](../Report/img/part1/LSTM_train_t20_default.png)\n",
    "\n",
    "$T = 20$ Best\n",
    "\n",
    "![t20_best](../Report/img/part1/LSTM_train_t20_lr_1e-4.png)\n",
    "\n",
    "$T = 30$\n",
    "\n",
    "![t30](../Report/img/part1/LSTM_train_t30_lr_1e-4.png)\n",
    "\n"
   ],
   "id": "cfc8e04bb0aaf878"
  }
 ],
 "metadata": {
  "kernelspec": {
   "display_name": "Python 3",
   "language": "python",
   "name": "python3"
  },
  "language_info": {
   "codemirror_mode": {
    "name": "ipython",
    "version": 2
   },
   "file_extension": ".py",
   "mimetype": "text/x-python",
   "name": "python",
   "nbconvert_exporter": "python",
   "pygments_lexer": "ipython2",
   "version": "2.7.6"
  }
 },
 "nbformat": 4,
 "nbformat_minor": 5
}
