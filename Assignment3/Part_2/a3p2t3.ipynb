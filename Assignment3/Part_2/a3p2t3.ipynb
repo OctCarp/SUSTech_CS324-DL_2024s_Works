{
 "cells": [
  {
   "metadata": {},
   "cell_type": "markdown",
   "source": "## Global Setting",
   "id": "30e30f5f6acaab47"
  },
  {
   "metadata": {
    "ExecuteTime": {
     "end_time": "2024-05-23T09:12:04.185140Z",
     "start_time": "2024-05-23T09:12:04.172137Z"
    }
   },
   "cell_type": "code",
   "source": [
    "import torch\n",
    "\n",
    "# True if you want to get dynamic output in notebook block, else False\n",
    "SHOW_IMG_IN_BLOCK = True\n",
    "\n",
    "MODEL_PATH = './model/mnist_generator_final.pt'\n",
    "IMAGE_OUT_PATH = './images/t3/'\n",
    "\n",
    "# True if you want to get single images for each step, else False\n",
    "NEED_EACH_STEP_IMG = False\n",
    "\n",
    "DEVICE = torch.device('cuda' if torch.cuda.is_available() else 'cpu')"
   ],
   "id": "e5bf5404101cdc4e",
   "outputs": [],
   "execution_count": 46
  },
  {
   "metadata": {},
   "cell_type": "markdown",
   "source": "### Load the Model, Prepare Noise",
   "id": "b923e1d4ff34d89e"
  },
  {
   "metadata": {
    "ExecuteTime": {
     "end_time": "2024-05-23T09:12:04.262137Z",
     "start_time": "2024-05-23T09:12:04.189139Z"
    }
   },
   "cell_type": "code",
   "source": [
    "import torch\n",
    "from torchvision.utils import save_image\n",
    "from my_gan import Generator\n",
    "\n",
    "generator = Generator(100).to(DEVICE)\n",
    "generator.load_state_dict(torch.load(MODEL_PATH))\n",
    "generator.eval()\n",
    "\n",
    "noise_begin = torch.randn(size=(1, 100), device=DEVICE)\n",
    "noise_end = torch.randn(size=(1, 100), device=DEVICE)\n",
    "\n",
    "noises_interp = []\n",
    "steps = 9\n",
    "for i in range(steps):\n",
    "    alpha = i / (steps - 1)\n",
    "    noise = noise_begin * (1 - alpha) + noise_end * alpha\n",
    "    noises_interp.append(noise)\n"
   ],
   "id": "2bdf58dc49f5011b",
   "outputs": [],
   "execution_count": 47
  },
  {
   "metadata": {},
   "cell_type": "markdown",
   "source": "### Generate and Save Image",
   "id": "7aab0f504eed3d2"
  },
  {
   "metadata": {
    "ExecuteTime": {
     "end_time": "2024-05-23T09:12:04.293243Z",
     "start_time": "2024-05-23T09:12:04.264138Z"
    }
   },
   "cell_type": "code",
   "source": [
    "noises_tensor = torch.stack(noises_interp).squeeze()\n",
    "\n",
    "if NEED_EACH_STEP_IMG:\n",
    "    for i in range(steps):\n",
    "        img_data = generator(noises_tensor[i].view(1, 100))\n",
    "        img_gen = img_data.view(1, 28, 28)\n",
    "        save_image(img_gen, f'{IMAGE_OUT_PATH}step_{i}.png', normalize=True, value_range=(-1, 1))\n",
    "\n",
    "img_data = generator(noises_tensor)\n",
    "img_gen = img_data.view(img_data.shape[0], 1, 28, 28)\n",
    "save_image(img_gen, f'{IMAGE_OUT_PATH}whole_latest.png', nrow=steps, normalize=True, value_range=(-1, 1))\n"
   ],
   "id": "bcd10fdda5c67123",
   "outputs": [],
   "execution_count": 48
  },
  {
   "metadata": {},
   "cell_type": "markdown",
   "source": "### Show Image",
   "id": "26eca152bb258164"
  },
  {
   "metadata": {},
   "cell_type": "code",
   "source": [
    "from IPython.display import display, Image\n",
    "\n",
    "if SHOW_IMG_IN_BLOCK:\n",
    "    print(f'Show latest image steps')\n",
    "    display(Image(filename=f'{IMAGE_OUT_PATH}whole_latest.png'))\n"
   ],
   "id": "fde168765364b16f",
   "outputs": [],
   "execution_count": null
  },
  {
   "metadata": {},
   "cell_type": "markdown",
   "source": [
    "### Static Show Prepared Results\n",
    "\n",
    "![whole1](../Report/img/p2t3/whole1.png)\n",
    "\n",
    "![whole2](../Report/img/p2t3/whole2.png)\n",
    "\n",
    "![whole3](../Report/img/p2t3/whole3.png)\n",
    "\n",
    "![whole4](../Report/img/p2t3/whole4.png)\n",
    "\n",
    "![whole5](../Report/img/p2t3/whole5.png)"
   ],
   "id": "261e4c84864ad861"
  }
 ],
 "metadata": {
  "kernelspec": {
   "display_name": "Python 3",
   "language": "python",
   "name": "python3"
  },
  "language_info": {
   "codemirror_mode": {
    "name": "ipython",
    "version": 2
   },
   "file_extension": ".py",
   "mimetype": "text/x-python",
   "name": "python",
   "nbconvert_exporter": "python",
   "pygments_lexer": "ipython2",
   "version": "2.7.6"
  }
 },
 "nbformat": 4,
 "nbformat_minor": 5
}
