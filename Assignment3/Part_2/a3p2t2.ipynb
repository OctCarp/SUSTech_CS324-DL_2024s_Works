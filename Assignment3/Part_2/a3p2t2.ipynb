{
 "cells": [
  {
   "metadata": {},
   "cell_type": "markdown",
   "source": "## Global Setting",
   "id": "8e92261030a9639e"
  },
  {
   "metadata": {
    "ExecuteTime": {
     "end_time": "2024-05-23T09:15:09.178719Z",
     "start_time": "2024-05-23T09:15:09.169720Z"
    }
   },
   "cell_type": "code",
   "source": [
    "# import torch\n",
    "# import numpy as np\n",
    "\n",
    "# True if you want to get dynamic output in notebook block, else False\n",
    "SHOW_IMG_IN_BLOCK = True\n",
    "\n",
    "# True if you want to train again (not recommended)\n",
    "TRAIN_AGAIN = False\n",
    "\n",
    "CONFIG = {\n",
    "    'n_epochs': 200,\n",
    "    'batch_size': 64,\n",
    "    'lr': 0.0002,\n",
    "    'latent_dim': 100,\n",
    "    'save_interval': 500,\n",
    "    'g_model_path': '',\n",
    "    'save_path': 'images/t2/'\n",
    "}\n",
    "\n",
    "# GLOBAL_SEED = 42\n",
    "# torch.manual_seed(GLOBAL_SEED)\n",
    "# torch.cuda.manual_seed_all(GLOBAL_SEED)\n",
    "# np.random.seed(GLOBAL_SEED)"
   ],
   "id": "21620b2a892e0b63",
   "outputs": [],
   "execution_count": 13
  },
  {
   "metadata": {},
   "cell_type": "markdown",
   "source": [
    "## Task2 \n",
    "\n",
    "### Train"
   ],
   "id": "8c5314f19355b052"
  },
  {
   "metadata": {
    "ExecuteTime": {
     "end_time": "2024-05-23T09:15:09.209271Z",
     "start_time": "2024-05-23T09:15:09.190902Z"
    }
   },
   "cell_type": "code",
   "source": [
    "if TRAIN_AGAIN:\n",
    "    from my_gan import main\n",
    "\n",
    "    main(CONFIG)"
   ],
   "id": "5e3969c9f36a3f37",
   "outputs": [],
   "execution_count": 14
  },
  {
   "metadata": {},
   "cell_type": "markdown",
   "source": "### Show Image\n",
   "id": "51dc45e258de9657"
  },
  {
   "metadata": {},
   "cell_type": "code",
   "source": [
    "from IPython.display import display, Image\n",
    "\n",
    "if SHOW_IMG_IN_BLOCK:\n",
    "    image_ids = [0, 90000, 187500]\n",
    "    print(f'Show image iteration {image_ids}/187500')\n",
    "    for image_id in image_ids:        \n",
    "        display(Image(filename=f'./images/t2/{image_id}.png'))\n"
   ],
   "id": "26e90e814dc79d04",
   "outputs": [],
   "execution_count": null
  },
  {
   "metadata": {},
   "cell_type": "markdown",
   "source": [
    "### Static Show\n",
    "\n",
    "#### Start\n",
    "\n",
    "![start](../Report/img/p2t2/0.png)\n",
    "\n",
    "#### Half\n",
    "\n",
    "![half](../Report/img/p2t2/90000.png)\n",
    "\n",
    "#### End\n",
    "\n",
    "![end](../Report/img/p2t2/187500.png)\n"
   ],
   "id": "d3c49753a01abf51"
  }
 ],
 "metadata": {
  "kernelspec": {
   "display_name": "Python 3",
   "language": "python",
   "name": "python3"
  },
  "language_info": {
   "codemirror_mode": {
    "name": "ipython",
    "version": 2
   },
   "file_extension": ".py",
   "mimetype": "text/x-python",
   "name": "python",
   "nbconvert_exporter": "python",
   "pygments_lexer": "ipython2",
   "version": "2.7.6"
  }
 },
 "nbformat": 4,
 "nbformat_minor": 5
}
